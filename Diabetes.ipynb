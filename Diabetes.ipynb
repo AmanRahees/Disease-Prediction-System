{
 "cells": [
  {
   "cell_type": "code",
   "execution_count": 1,
   "id": "3de73201",
   "metadata": {},
   "outputs": [],
   "source": [
    "# importing the dependencies\n",
    "import pandas as pd\n",
    "import numpy as np\n",
    "import matplotlib.pyplot as plt\n",
    "import seaborn as sns"
   ]
  },
  {
   "cell_type": "code",
   "execution_count": 2,
   "id": "5edc95de",
   "metadata": {},
   "outputs": [],
   "source": [
    "diabetes_data = pd.read_csv('datasets/diabetes.csv')"
   ]
  },
  {
   "cell_type": "markdown",
   "id": "c6296903",
   "metadata": {},
   "source": [
    "## Exploring Data"
   ]
  },
  {
   "cell_type": "code",
   "execution_count": 3,
   "id": "97c870e9",
   "metadata": {},
   "outputs": [],
   "source": [
    "diabetes_data.head()"
   ]
  },
  {
   "cell_type": "code",
   "execution_count": 4,
   "id": "43e573e6",
   "metadata": {},
   "outputs": [],
   "source": [
    "# Checking the no. of rows and columns in the dataset\n",
    "diabetes_data.shape"
   ]
  },
  {
   "cell_type": "code",
   "execution_count": 5,
   "id": "e0ebc5ce",
   "metadata": {},
   "outputs": [],
   "source": [
    "diabetes_data.columns"
   ]
  },
  {
   "cell_type": "code",
   "execution_count": 6,
   "id": "3e1bc4bb",
   "metadata": {},
   "outputs": [],
   "source": [
    "diabetes_data.info()"
   ]
  },
  {
   "cell_type": "code",
   "execution_count": 7,
   "id": "292f3593",
   "metadata": {},
   "outputs": [],
   "source": [
    "# Getting the statistical measures of the dataset\n",
    "diabetes_data.describe().T"
   ]
  },
  {
   "cell_type": "code",
   "execution_count": 8,
   "id": "60ee3044",
   "metadata": {},
   "outputs": [],
   "source": [
    "# checking any None values in the dataset\n",
    "diabetes_data.isna().values.any()"
   ]
  },
  {
   "cell_type": "code",
   "execution_count": 9,
   "id": "4461c91f",
   "metadata": {
    "scrolled": true
   },
   "outputs": [],
   "source": [
    "diabetes_data.Outcome.value_counts()"
   ]
  },
  {
   "cell_type": "markdown",
   "id": "a737fb78",
   "metadata": {},
   "source": [
    "0 -> Non-Diabetic\n",
    "\n",
    "1 -> Diabetic"
   ]
  },
  {
   "cell_type": "code",
   "execution_count": 10,
   "id": "4139060e",
   "metadata": {},
   "outputs": [],
   "source": [
    "diabetes_data.groupby('Outcome').mean()"
   ]
  },
  {
   "cell_type": "code",
   "execution_count": 11,
   "id": "c805e328",
   "metadata": {},
   "outputs": [],
   "source": [
    "# Separating the Features and target variables\n",
    "X = diabetes_data.drop('Outcome', axis=1)\n",
    "y = diabetes_data['Outcome']"
   ]
  },
  {
   "cell_type": "code",
   "execution_count": 12,
   "id": "d20bc51c",
   "metadata": {},
   "outputs": [],
   "source": [
    "X.columns"
   ]
  },
  {
   "cell_type": "code",
   "execution_count": 13,
   "id": "4383de2f",
   "metadata": {},
   "outputs": [],
   "source": [
    "y.name"
   ]
  },
  {
   "cell_type": "code",
   "execution_count": 14,
   "id": "184c13a2",
   "metadata": {},
   "outputs": [],
   "source": [
    "from sklearn.model_selection import train_test_split\n",
    "\n",
    "x_train, x_test, y_train, y_test = train_test_split(X, y, test_size=0.2, stratify=y, random_state=0)"
   ]
  },
  {
   "cell_type": "code",
   "execution_count": 15,
   "id": "7910d1f0",
   "metadata": {},
   "outputs": [],
   "source": [
    "x_train.shape, x_test.shape, y_train.shape, y_test.shape"
   ]
  },
  {
   "cell_type": "markdown",
   "id": "0f2bd793",
   "metadata": {},
   "source": [
    "## Model Building"
   ]
  },
  {
   "cell_type": "markdown",
   "id": "804f06bb",
   "metadata": {},
   "source": [
    "### 1.) Support Vecotor Classifier"
   ]
  },
  {
   "cell_type": "code",
   "execution_count": 16,
   "id": "78f57766",
   "metadata": {},
   "outputs": [],
   "source": [
    "from sklearn.svm import SVC\n",
    "\n",
    "svm_classifier = SVC(kernel='rbf',C=10000)"
   ]
  },
  {
   "cell_type": "code",
   "execution_count": 17,
   "id": "4285ff9c",
   "metadata": {},
   "outputs": [],
   "source": [
    "# Training the support vector classifier\n",
    "svm_classifier.fit(x_train, y_train)"
   ]
  },
  {
   "cell_type": "markdown",
   "id": "41e0920a",
   "metadata": {},
   "source": [
    "#### SVC Model Evaluation"
   ]
  },
  {
   "cell_type": "code",
   "execution_count": 18,
   "id": "705e5e93",
   "metadata": {
    "scrolled": true
   },
   "outputs": [],
   "source": [
    "svm_y_pred = svm_classifier.predict(x_test)\n",
    "svm_y_pred"
   ]
  },
  {
   "cell_type": "code",
   "execution_count": 19,
   "id": "10357685",
   "metadata": {},
   "outputs": [],
   "source": [
    "from sklearn.metrics import accuracy_score, precision_score, recall_score, f1_score, confusion_matrix\n",
    "\n",
    "svc_accuracy = accuracy_score(y_test, svm_y_pred)\n",
    "svc_precision = precision_score(y_test, svm_y_pred)\n",
    "svc_recall = recall_score(y_test, svm_y_pred)\n",
    "svc_f1score = f1_score(y_test, svm_y_pred)"
   ]
  },
  {
   "cell_type": "code",
   "execution_count": 20,
   "id": "a4d284cb",
   "metadata": {},
   "outputs": [],
   "source": [
    "print('Accuracy : {:.2f}%'.format(svc_accuracy*100))\n",
    "print('Precision : {:.2f}%'.format(svc_precision*100))\n",
    "print('Recall : {:.2f}%'.format(svc_recall*100))\n",
    "print('F1 Score : {:.2f}%'.format(svc_f1score*100))"
   ]
  },
  {
   "cell_type": "code",
   "execution_count": 21,
   "id": "2d121b30",
   "metadata": {},
   "outputs": [],
   "source": [
    "confusion_matrix(y_test, svm_y_pred)"
   ]
  },
  {
   "cell_type": "markdown",
   "id": "95945577",
   "metadata": {},
   "source": [
    "### 2.)  Logistic Regression"
   ]
  },
  {
   "cell_type": "code",
   "execution_count": 22,
   "id": "9415aa4d",
   "metadata": {},
   "outputs": [],
   "source": [
    "from sklearn.linear_model import LogisticRegression\n",
    "\n",
    "lgr_model = LogisticRegression()"
   ]
  },
  {
   "cell_type": "code",
   "execution_count": 23,
   "id": "bfc2f6cb",
   "metadata": {},
   "outputs": [],
   "source": [
    "# Training Logistic Regression model\n",
    "lgr_model.fit(x_train, y_train)"
   ]
  },
  {
   "cell_type": "markdown",
   "id": "fdfd94aa",
   "metadata": {},
   "source": [
    "#### Logistic Regression Evaluation"
   ]
  },
  {
   "cell_type": "code",
   "execution_count": 24,
   "id": "89cb9bfd",
   "metadata": {},
   "outputs": [],
   "source": [
    "lgr_y_pred = lgr_model.predict(x_test)\n",
    "lgr_y_pred"
   ]
  },
  {
   "cell_type": "code",
   "execution_count": 25,
   "id": "f5646f2a",
   "metadata": {},
   "outputs": [],
   "source": [
    "lgr_accuracy = accuracy_score(y_test, lgr_y_pred)\n",
    "lgr_precision = precision_score(y_test, lgr_y_pred)\n",
    "lgr_recall = recall_score(y_test, lgr_y_pred)\n",
    "lgr_f1score = f1_score(y_test, lgr_y_pred)"
   ]
  },
  {
   "cell_type": "code",
   "execution_count": 26,
   "id": "7244f026",
   "metadata": {},
   "outputs": [],
   "source": [
    "print('Accuracy : {:.2f}%'.format(svc_accuracy*100))\n",
    "print('Precision : {:.2f}%'.format(lgr_precision*100))\n",
    "print('Recall : {:.2f}%'.format(lgr_recall*100))\n",
    "print('F1 score : {:.2f}%'.format(lgr_f1score*100))"
   ]
  },
  {
   "cell_type": "code",
   "execution_count": 27,
   "id": "73068fbb",
   "metadata": {},
   "outputs": [],
   "source": [
    "confusion_matrix(y_test, lgr_y_pred)"
   ]
  },
  {
   "cell_type": "markdown",
   "id": "a51b7eaa",
   "metadata": {},
   "source": [
    "# Conclusion\n",
    "\n",
    "Both SVC model and Logistic Regression model have same accuracy. But, In the case of looking on other evaluation metrics SVC model is performing more better than Logistic Regression model.  So, SVC has been selected as Final Model.\n",
    "\n",
    "Final Model - svm_classifier"
   ]
  },
  {
   "cell_type": "markdown",
   "id": "dbb3730a",
   "metadata": {},
   "source": [
    "## Saving the Final Model for Predictive System"
   ]
  },
  {
   "cell_type": "code",
   "execution_count": 28,
   "id": "05bab5d0",
   "metadata": {},
   "outputs": [],
   "source": [
    "import pickle\n",
    "\n",
    "filename = 'diabetes_model.sav'\n",
    "pickle.dump(svm_classifier, open(filename, 'wb'))"
   ]
  }
 ],
 "metadata": {
  "kernelspec": {
   "display_name": "myenv",
   "language": "python",
   "name": "myenv"
  },
  "language_info": {
   "codemirror_mode": {
    "name": "ipython",
    "version": 3
   },
   "file_extension": ".py",
   "mimetype": "text/x-python",
   "name": "python",
   "nbconvert_exporter": "python",
   "pygments_lexer": "ipython3",
   "version": "3.9.16"
  }
 },
 "nbformat": 4,
 "nbformat_minor": 5
}
